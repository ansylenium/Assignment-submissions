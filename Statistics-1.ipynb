{
 "cells": [
  {
   "cell_type": "markdown",
   "metadata": {},
   "source": [
    "Calculate the mean, median, mode and standard deviation for the problem\n",
    "statements 1& 2.\n",
    "\n",
    "Problem Statement 1:\n",
    "\n",
    "The marks awarded for an assignment set for a Year 8 class of 20 students were as\n",
    "follows:\n",
    "\n",
    "6 7 5 7 7 8 7 6 9 7 4 10 6 8 8 9 5 6 4 8"
   ]
  },
  {
   "cell_type": "code",
   "execution_count": 1,
   "metadata": {},
   "outputs": [],
   "source": [
    "import numpy as np\n",
    "import matplotlib.pyplot as plt\n",
    "from scipy import stats\n",
    "from numpy import random\n",
    "import seaborn as sns\n",
    "from scipy.integrate import quad\n",
    "import math\n",
    "from scipy.stats import norm\n",
    "from scipy.stats import binom "
   ]
  },
  {
   "cell_type": "code",
   "execution_count": 2,
   "metadata": {},
   "outputs": [
    {
     "name": "stdout",
     "output_type": "stream",
     "text": [
      "Mean is 6.85\n",
      "Mode is 7\n",
      "Standard deviation is 1.5898113095584647\n"
     ]
    }
   ],
   "source": [
    "arr = np.array([6,7, 5, 7, 7, 8, 7, 6, 9, 7, 4, 10, 6, 8, 8, 9, 5, 6, 4, 8])\n",
    "print(f\"Mean is {np.mean(arr)}\")\n",
    "print(f\"Mode is {stats.mode(arr)[0][0]}\")\n",
    "print(f\"Standard deviation is {np.std(arr)}\")"
   ]
  },
  {
   "cell_type": "markdown",
   "metadata": {},
   "source": [
    "Problem Statement 2:\n",
    "The number of calls from motorists per day for roadside service was recorded for a\n",
    "particular month:\n",
    "\n",
    "28, 122, 217, 130, 120, 86, 80, 90, 140, 120, 70, 40, 145, 113, 90, 68, 174, 194, 170,\n",
    "100, 75, 104, 97, 75,\n",
    "123, 100, 75, 104, 97, 75, 123, 100, 89, 120, 109"
   ]
  },
  {
   "cell_type": "code",
   "execution_count": 3,
   "metadata": {},
   "outputs": [
    {
     "name": "stdout",
     "output_type": "stream",
     "text": [
      "Mean is 107.51428571428572\n",
      "Mode is 75\n",
      "Standard deviation is 38.77287080168403\n"
     ]
    }
   ],
   "source": [
    "arr = np.array([28, 122, 217, 130, 120, 86, 80,\n",
    "                90, 140, 120, 70, 40, 145, 113,\n",
    "                90, 68, 174, 194, 170, 100, 75,\n",
    "                104, 97, 75, 123, 100, 75, 104,\n",
    "                97, 75, 123, 100, 89, 120, 109])\n",
    "\n",
    "print(f\"Mean is {np.mean(arr)}\")\n",
    "print(f\"Mode is {stats.mode(arr)[0][0]}\")\n",
    "print(f\"Standard deviation is {np.std(arr)}\")"
   ]
  },
  {
   "cell_type": "markdown",
   "metadata": {},
   "source": [
    "Problem Statement 3:\n",
    "The number of times I go to the gym in weekdays, are given below along with its\n",
    "associated probability:\n",
    "\n",
    "x = 0, 1, 2, 3, 4, 5\n",
    "\n",
    "f(x) = 0.09, 0.15, 0.40, 0.25, 0.10, 0.01\n",
    "\n",
    "Calculate the mean no. of workouts in a week. Also evaluate the variance involved in\n",
    "it."
   ]
  },
  {
   "cell_type": "code",
   "execution_count": 4,
   "metadata": {},
   "outputs": [],
   "source": [
    "x = np.array([0, 1, 2, 3, 4, 5])\n",
    "fx = np.array([0.09, 0.15, 0.40, 0.25, 0.10, 0.01])"
   ]
  },
  {
   "cell_type": "code",
   "execution_count": 5,
   "metadata": {},
   "outputs": [
    {
     "data": {
      "text/plain": [
       "1.0"
      ]
     },
     "execution_count": 5,
     "metadata": {},
     "output_type": "execute_result"
    }
   ],
   "source": [
    "np.sum(fx)"
   ]
  },
  {
   "cell_type": "code",
   "execution_count": 6,
   "metadata": {},
   "outputs": [
    {
     "name": "stdout",
     "output_type": "stream",
     "text": [
      "Average number of workouts per week is 2.15\n",
      "Variance in data is 1.2275\n"
     ]
    }
   ],
   "source": [
    "print(f\"Average number of workouts per week is {np.sum(x*fx)}\")\n",
    "print(f\"Variance in data is {np.sum((x**2)*fx) - np.sum(x*fx)**2}\")"
   ]
  },
  {
   "cell_type": "markdown",
   "metadata": {},
   "source": [
    "Problem Statement 4:\n",
    "Let the continuous random variable D denote the diameter of the hole drilled in an\n",
    "aluminum sheet.\n",
    "The target diameter to be achieved is 12.5mm.\n",
    "Random disturbances in the process often result in inaccuracy.\n",
    "Historical data shows that the distribution of D can be modelled by the PDF (𝑑) =\n",
    "20𝑒−20(𝑑−12.5), 𝑑 ≥ 12.5. \n",
    "If a part with diameter > 12.6 mm needs to be scrapped,\n",
    "what is the proportion of those parts? \n",
    "What is the CDF when the diameter is of 11\n",
    "mm? What is your conclusion regarding the proportion of scraps?"
   ]
  },
  {
   "cell_type": "code",
   "execution_count": 7,
   "metadata": {},
   "outputs": [
    {
     "name": "stdout",
     "output_type": "stream",
     "text": [
      "1.0000000000000024\n",
      "Proportion of parts with diameter > 12.6 is\n",
      "0.13533528323661398\n",
      "\n",
      "\n",
      "CDF when the diameter is 11. Technically should be zero\n",
      "3.746454614502673e+108\n",
      "\n",
      "\n",
      "Since 86% of holes have diameter in + 0.1 range I'd say not bad\n",
      "0.8646647167633718\n"
     ]
    }
   ],
   "source": [
    "def integrand(x):\n",
    "    return 20*math.exp(-20*(x-12.5))\n",
    "\n",
    "print(quad(integrand, 12.5, np.inf)[0]) # Checking if pdf is correct by intergrating over its range\n",
    "\n",
    "print(\"Proportion of parts with diameter > 12.6 is\")\n",
    "print(quad(integrand, 12.6, np.inf)[0])\n",
    "print(\"\\n\")\n",
    "print(\"CDF when the diameter is 11. Technically should be zero\")\n",
    "print(quad(integrand, 0, 11)[0])\n",
    "print(\"\\n\")\n",
    "print(\"Since 86% of holes have diameter in + 0.1 range I'd say not bad\")\n",
    "print(quad(integrand, 12.5, 12.6)[0])"
   ]
  },
  {
   "cell_type": "markdown",
   "metadata": {},
   "source": [
    "Problem Statement 5:\n",
    "A company manufactures LED bulbs with a faulty rate of 30%. \n",
    "\n",
    "If I randomly select 6 chosen LEDs, what is the probability of having 2 faulty LEDs in my sample?\n",
    "Calculate the average value of this process. Also evaluate the standard deviation\n",
    "associated with it."
   ]
  },
  {
   "cell_type": "code",
   "execution_count": 8,
   "metadata": {},
   "outputs": [
    {
     "name": "stdout",
     "output_type": "stream",
     "text": [
      "Probability of having 2 faulty LEDs in sample\n",
      "0.32413499999999995\n",
      "\n",
      "\n",
      "Mean\n",
      "1.7999999999999998\n",
      "\n",
      "\n",
      "Standard deviation\n",
      "1.1224972160321822\n"
     ]
    }
   ],
   "source": [
    "# Binomial distn\n",
    "n = 6\n",
    "x = 2\n",
    "p = 0.3\n",
    "probability = binom.pmf(x, n, p)\n",
    "print(\"Probability of having 2 faulty LEDs in sample\")\n",
    "print(probability)\n",
    "print(\"\\n\")\n",
    "mean, var = binom.stats(n, p) # mean is np and variance is npq\n",
    "std = np.sqrt(var)\n",
    "print(\"Mean\")\n",
    "print(mean)\n",
    "print(\"\\n\")\n",
    "print(\"Standard deviation\")\n",
    "print(std)"
   ]
  },
  {
   "cell_type": "markdown",
   "metadata": {},
   "source": [
    "Problem Statement 6:\n",
    "Gaurav and Barakha are both preparing for entrance exams. Gaurav attempts to\n",
    "solve 8 questions per day with a correction rate of 75%, while Barakha averages\n",
    "around 12 questions per day with a correction rate of 45%. What is the probability\n",
    "that each of them will solve 5 questions correctly? What happens in cases of 4 and 6\n",
    "correct solutions? What do you infer from it? What are the two main governing\n",
    "factors affecting their ability to solve questions correctly? Give a pictorial\n",
    "representation of the same to validate your answer."
   ]
  },
  {
   "cell_type": "code",
   "execution_count": 9,
   "metadata": {},
   "outputs": [
    {
     "name": "stdout",
     "output_type": "stream",
     "text": [
      "Probabilty of Gaurav solving 5 questions correctly a day is 0.20764160156250022\n",
      "Probabilty of Barkha solving 5 questions correctly a day is 0.22249823843265792\n",
      "Probabilty of Gaurav solving 4 questions correctly a day is 0.08651733398437506 and 6 questions a day is 0.31146240234375017\n",
      "Probabilty of Barkha solving 4 questions correctly a day is 0.16996393213605795 and 6 questions a day is 0.21238468214026424\n",
      "The main factors affectiing their ability is number of attemmpts and success rate\n",
      "Gaurav attemps 8 questions with p=0.75 so peak is around 6 for him\n",
      "Barkha attemps 12 questions with p=0.45 so peak is around 5 for her\n",
      "Barkha's distribution has fatter tails compared to Gaurav\n"
     ]
    },
    {
     "data": {
      "image/png": "[encoded data removed]",
      "text/plain": [
       "<Figure size 432x288 with 1 Axes>"
      ]
     },
     "metadata": {
      "needs_background": "light"
     },
     "output_type": "display_data"
    }
   ],
   "source": [
    "# Binomial distn Gaurav\n",
    "n1 = 8\n",
    "x1 = 5\n",
    "p1 = 0.75\n",
    "# Binomial distn Barkha\n",
    "n2 = 12\n",
    "x2 = 5\n",
    "p2 = 0.45\n",
    "probability1 = binom.pmf(x1, n1, p1)\n",
    "probability2 = binom.pmf(x2, n2, p2)\n",
    "print(f\"Probabilty of Gaurav solving 5 questions correctly a day is {probability1}\")\n",
    "print(f\"Probabilty of Barkha solving 5 questions correctly a day is {probability2}\")\n",
    "x3 = 4\n",
    "x4 = 6\n",
    "probability3 = binom.pmf(x3, n1, p1)\n",
    "probability4 = binom.pmf(x3, n2, p2)\n",
    "probability5 = binom.pmf(x4, n1, p1)\n",
    "probability6 = binom.pmf(x4, n2, p2)\n",
    "print(f\"Probabilty of Gaurav solving 4 questions correctly a day is {probability3} and 6 questions a day is {probability5}\")\n",
    "print(f\"Probabilty of Barkha solving 4 questions correctly a day is {probability4} and 6 questions a day is {probability6}\")\n",
    "\n",
    "r_values1 = list(range(n2 + 1)) \n",
    "r_values2 = list(range(n2 + 1)) \n",
    "\n",
    "# list of pmf values \n",
    "dist1 = [binom.pmf(r, n1, p1) for r in r_values1]\n",
    "dist2 = [binom.pmf(r, n2, p2) for r in r_values2]\n",
    "\n",
    "plt.plot(r_values1, dist1, color='r')\n",
    "plt.plot(r_values2, dist2, color='b')\n",
    "print(\"The main factors affectiing their ability is number of attemmpts and success rate\")\n",
    "print(\"Gaurav attemps 8 questions with p=0.75 so peak is around 6 for him\")\n",
    "print(\"Barkha attemps 12 questions with p=0.45 so peak is around 5 for her\")\n",
    "print(\"Barkha's distribution has fatter tails compared to Gaurav\")"
   ]
  },
  {
   "cell_type": "markdown",
   "metadata": {},
   "source": [
    "Problem Statement 7:\n",
    "Customers arrive at a rate of 72 per hour to my shop. What is the probability of 𝑘\n",
    "customers arriving in 4 minutes? \n",
    "\n",
    "a) 5 customers, \n",
    "\n",
    "b) not more than 3 customers, \n",
    "\n",
    "c) more than 3 customers. Give a pictorial representation of the same to validate your\n",
    "answer."
   ]
  },
  {
   "cell_type": "code",
   "execution_count": 10,
   "metadata": {},
   "outputs": [
    {
     "name": "stdout",
     "output_type": "stream",
     "text": [
      "Probability of 5 customers in 4 minutes\n",
      "0.17474768364388296\n",
      "Probability of not more than 3 customers in 4 minutes\n",
      "0.2942299164965642\n",
      "Probability of more than 3 customers in 4 minutes\n",
      "0.7057700835034357\n"
     ]
    }
   ],
   "source": [
    "from scipy.stats import poisson\n",
    "mu = 72/60 # rate of customers per minute\n",
    "print(\"Probability of 5 customers in 4 minutes\")\n",
    "print(poisson.pmf(5, 4*mu))\n",
    "print(\"Probability of not more than 3 customers in 4 minutes\")\n",
    "print(poisson.cdf(3, 4*mu))\n",
    "print(\"Probability of more than 3 customers in 4 minutes\")\n",
    "print(1-poisson.cdf(3, 4*mu))"
   ]
  },
  {
   "cell_type": "code",
   "execution_count": 11,
   "metadata": {},
   "outputs": [
    {
     "data": {
      "text/plain": [
       "<matplotlib.lines.Line2D at 0x14b7104af48>"
      ]
     },
     "execution_count": 11,
     "metadata": {},
     "output_type": "execute_result"
    },
    {
     "data": {
      "image/png": "[encoded data removed]",
      "text/plain": [
       "<Figure size 432x288 with 1 Axes>"
      ]
     },
     "metadata": {
      "needs_background": "light"
     },
     "output_type": "display_data"
    }
   ],
   "source": [
    "x = np.arange(poisson.ppf(0.01, 4*mu),\n",
    "              poisson.ppf(0.99, 4*mu))\n",
    "plt.plot(x, poisson.cdf(x, 4*mu), label='poisson pmf')\n",
    "plt.axvline(x=3, color='r') # 30% of probability ofr <=3 customers"
   ]
  },
  {
   "cell_type": "markdown",
   "metadata": {},
   "source": [
    "Problem Statement 8:\n",
    "I work as a data analyst in Aeon Learning Pvt. Ltd. After analyzing data, I make\n",
    "reports, where I have the efficiency of entering 77 words per minute with 6 errors per\n",
    "hour. What is the probability that I will commit 2 errors in a 455-word financial report?\n",
    "What happens when the no. of words increases/decreases (in case of 1000 words,\n",
    "255 words)?\n",
    "How is the 𝜆 affected?\n",
    "How does it influence the PMF?\n",
    "Give a pictorial representation of the same to validate your answer"
   ]
  },
  {
   "cell_type": "code",
   "execution_count": 12,
   "metadata": {},
   "outputs": [
    {
     "name": "stdout",
     "output_type": "stream",
     "text": [
      "probability that I will commit 2 errors in a 455-word financial report\n",
      "0.09669027375144444\n"
     ]
    },
    {
     "data": {
      "text/plain": [
       "[<matplotlib.lines.Line2D at 0x14b71112fc8>]"
      ]
     },
     "execution_count": 12,
     "metadata": {},
     "output_type": "execute_result"
    },
    {
     "data": {
      "image/png": "[encoded data removed]",
      "text/plain": [
       "<Figure size 432x288 with 1 Axes>"
      ]
     },
     "metadata": {
      "needs_background": "light"
     },
     "output_type": "display_data"
    }
   ],
   "source": [
    "p = 6/60 # Rate of error per minute\n",
    "p = p/77 # Rate of error per word\n",
    "print(\"probability that I will commit 2 errors in a 455-word financial report\")\n",
    "print(poisson.pmf(2, 455*p))\n",
    "\n",
    "x = [poisson.pmf(x, 255*p) for x in range(11)] \n",
    "plt.plot(range(11), x, color='b')\n",
    "x = [poisson.pmf(x, 1000*p) for x in range(11)] \n",
    "plt.plot(range(11), x, color='r')"
   ]
  },
  {
   "cell_type": "markdown",
   "metadata": {},
   "source": [
    "Problem Statement 9:\n",
    "Let the continuous random variable D denote the diameter of the hole drilled in an\n",
    "aluminum sheet. The target diameter to be achieved is 12.5mm. Random\n",
    "disturbances in the process often result in inaccuracy.\n",
    "Historical data shows that the distribution of D can be modelled by the PDF, f(d) =\n",
    "20e−20(d−12.5), d ≥ 12.5. If a part with diameter > 12.6 mm needs to be scrapped,\n",
    "what is the proportion of those parts? What is the CDF when the diameter is of 11\n",
    "mm?\n",
    "What is the conclusion of this experiment?"
   ]
  },
  {
   "cell_type": "code",
   "execution_count": 13,
   "metadata": {},
   "outputs": [
    {
     "name": "stdout",
     "output_type": "stream",
     "text": [
      "Proportion of parts with diameter > 12.6 is\n",
      "0.13533528323661398\n",
      "CDF when the diameter is of 11. Technically should be zero\n",
      "3.746454614502673e+108\n",
      "Since 86% of holes have diameter in + 0.05 range I'd say not bad\n",
      "0.8646647167633718\n"
     ]
    }
   ],
   "source": [
    "def integrand(x):\n",
    "    return 20*math.exp(-20*(x-12.5))\n",
    "\n",
    "quad(integrand, 12.5, np.inf)[0] # Checking if pdf is correct\n",
    "\n",
    "print(\"Proportion of parts with diameter > 12.6 is\")\n",
    "print(quad(integrand, 12.6, np.inf)[0])\n",
    "print(\"CDF when the diameter is of 11. Technically should be zero\")\n",
    "print(quad(integrand, 0, 11)[0])\n",
    "print(\"Since 86% of holes have diameter in + 0.05 range I'd say not bad\")\n",
    "print(quad(integrand, 12.5, 12.6)[0])"
   ]
  },
  {
   "cell_type": "markdown",
   "metadata": {},
   "source": [
    "Problem Statement 10:\n",
    "Please compute the following:\n",
    "a) P(Z > 1.26), . P(Z < −0.86), P(Z > −1.37), P(−1.25 < Z < 0.37), . P(Z ≤ −4.6)\n",
    "b) Find the value 𝑧 such that 𝑃(𝑍 > 𝑧) = 0.05\n",
    "c) Find the value of 𝑧 such that 𝑃(−𝑧 < 𝑍 < 𝑧) = 0.99"
   ]
  },
  {
   "cell_type": "code",
   "execution_count": 14,
   "metadata": {},
   "outputs": [
    {
     "name": "stdout",
     "output_type": "stream",
     "text": [
      "P(Z > 1.26)\n",
      "0.10383468112130045\n",
      "P(Z < −0.86)\n",
      "0.1948945212518084\n",
      "P(Z > −1.37)\n",
      "0.914656549178033\n",
      "P(−1.25 < Z < 0.37)\n",
      "0.5386589811336914\n",
      "P(Z ≤ −4.6)\n",
      "2.1124547025028537e-06\n",
      "Find the value 𝑧 such that 𝑃(𝑍 > 𝑧) = 0.05\n",
      "1.6448536269514722\n",
      "Find the value of 𝑧 such that 𝑃(−𝑧 < 𝑍 < 𝑧) = 0.99\n",
      "2.5758293035489004\n"
     ]
    }
   ],
   "source": [
    "print(\"P(Z > 1.26)\")\n",
    "print(1 - norm.cdf(1.26))\n",
    "print(\"P(Z < −0.86)\")\n",
    "print(norm.cdf(-0.86))\n",
    "print(\"P(Z > −1.37)\")\n",
    "print(1 - norm.cdf(-1.37))\n",
    "print(\"P(−1.25 < Z < 0.37)\")\n",
    "print(norm.cdf(0.37) - norm.cdf(-1.25))\n",
    "print(\"P(Z ≤ −4.6)\")\n",
    "print(norm.cdf(-4.6))\n",
    "print(\"Find the value 𝑧 such that 𝑃(𝑍 > 𝑧) = 0.05\")\n",
    "print(norm.ppf(1-0.05))\n",
    "print(\"Find the value of 𝑧 such that 𝑃(−𝑧 < 𝑍 < 𝑧) = 0.99\")\n",
    "print(norm.ppf(1-0.005))"
   ]
  },
  {
   "cell_type": "markdown",
   "metadata": {},
   "source": [
    "Problem Statement 11:\n",
    "The current flow in a copper wire follow a normal distribution with a mean of 10 𝑚A\n",
    "and a variance of 4 (𝑚𝐴)2.\n",
    "What is the probability that a current measurement will exceed 13 𝑚𝐴? What is the\n",
    "probability that a current measurement is between 9 and 11mA? Determine the\n",
    "current measurement which has a probability of 0.98."
   ]
  },
  {
   "cell_type": "code",
   "execution_count": 15,
   "metadata": {},
   "outputs": [
    {
     "name": "stdout",
     "output_type": "stream",
     "text": [
      "What is the probability that a current measurement will exceed 13 𝑚𝐴\n",
      "0.9352412021670541\n",
      "The probability that a current measurement is between 9 and 11mA\n",
      "0.38292492254802624\n",
      "Determine the current measurement which has a probability of 0.98\n",
      "14.107497821263646\n"
     ]
    }
   ],
   "source": [
    "mu = 10\n",
    "sigma = 2\n",
    "print(\"What is the probability that a current measurement will exceed 13 𝑚𝐴\")\n",
    "print(1-norm.pdf(13, mu, sigma))\n",
    "print(\"The probability that a current measurement is between 9 and 11mA\")\n",
    "print(norm.cdf(11, mu, sigma) - norm.cdf(9, mu, sigma))\n",
    "print(\"Determine the current measurement which has a probability of 0.98\")\n",
    "print(norm.ppf(0.98, mu, sigma))"
   ]
  },
  {
   "cell_type": "markdown",
   "metadata": {},
   "source": [
    "Problem Statement 12:\n",
    "The shaft in a piston has its diameter normally distributed with a mean of 0.2508 inch\n",
    "and a standard deviation of 0.0005 inch. The specifications of the shaft are 0.2500 ∓\n",
    "0.0015 inch. What proportion of shafts are in sync with the specifications? If the\n",
    "process is centered so that the mean is equal to the target value of 0.2500, what\n",
    "proportion of shafts conform to the new specifications? What is your conclusion from\n",
    "this experiment?"
   ]
  },
  {
   "cell_type": "code",
   "execution_count": 16,
   "metadata": {},
   "outputs": [
    {
     "name": "stdout",
     "output_type": "stream",
     "text": [
      "What proportion of shafts are in sync with the specifications?\n",
      "0.91924122831152\n",
      "What proportion of shafts conform to the new specifications? \n",
      "0.9973002039367398\n",
      "Conclusion: Change is mean results in more shafts to be in specification\n"
     ]
    }
   ],
   "source": [
    "mu = 0.2508\n",
    "sigma = 0.0005\n",
    "specification_low = 0.2500-0.0015\n",
    "specification_high = 0.2500+0.0015\n",
    "print(\"What proportion of shafts are in sync with the specifications?\")\n",
    "print(norm.cdf(specification_high, mu, sigma) - norm.cdf(specification_low, mu, sigma))\n",
    "mu = 0.2500\n",
    "print(\"What proportion of shafts conform to the new specifications? \")\n",
    "print(norm.cdf(specification_high, mu, sigma) - norm.cdf(specification_low, mu, sigma))\n",
    "print(\"Conclusion: Change is mean results in more shafts to be in specification\")"
   ]
  }
 ],
 "metadata": {
  "kernelspec": {
   "display_name": "Python 3",
   "language": "python",
   "name": "python3"
  },
  "language_info": {
   "codemirror_mode": {
    "name": "ipython",
    "version": 3
   },
   "file_extension": ".py",
   "mimetype": "text/x-python",
   "name": "python",
   "nbconvert_exporter": "python",
   "pygments_lexer": "ipython3",
   "version": "3.7.6"
  }
 },
 "nbformat": 4,
 "nbformat_minor": 4
}
